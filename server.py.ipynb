{
 "cells": [
  {
   "cell_type": "code",
   "execution_count": 1,
   "id": "7fc29f70",
   "metadata": {},
   "outputs": [
    {
     "name": "stdout",
     "output_type": "stream",
     "text": [
      "Collecting sockets\n",
      "  Downloading sockets-1.0.0-py3-none-any.whl (4.5 kB)\n",
      "Installing collected packages: sockets\n",
      "Successfully installed sockets-1.0.0\n"
     ]
    }
   ],
   "source": [
    "!pip install sockets"
   ]
  },
  {
   "cell_type": "code",
   "execution_count": null,
   "id": "26e8b906",
   "metadata": {},
   "outputs": [],
   "source": [
    "#server\n",
    "import socket\n",
    "host = socket.gethostbyname(socket.gethostname())\n",
    "port = 1102\n",
    "\n",
    "with socket.socket(socket.AF_INET,socket.SOCK_STREAM) as s:\n",
    "    try:\n",
    "        s.bind((host, port))\n",
    "        s.listen()\n",
    "        print(\"server start at {}:{}\".format(host, port))\n",
    "        print(\"waiting for comming connection ...\")\n",
    "        while True:\n",
    "            connection, address = s.accept()\n",
    "            print(\"connect by {}\".format(address))\n",
    "            with connection:\n",
    "                data = connection.recv(1024).decode(\"utf8\")\n",
    "                print(\"Message form client \\\"{}\\\" \".format(data))\n",
    "                if data == \"Hello\":\n",
    "                    connection.sendall(b\"Hello form Server\")\n",
    "    except OSError as e:\n",
    "        print(e)"
   ]
  },
  {
   "cell_type": "code",
   "execution_count": null,
   "id": "7e8d8705",
   "metadata": {},
   "outputs": [],
   "source": [
    "#client\n",
    "import socket\n",
    "\n",
    "host = input(\"enter host ip address: \")\n",
    "port = 1102\n",
    "with socket.socket(socket.AF_INET,socket.SOCK_STREAM) as s:\n",
    "    try:\n",
    "        s.connect((host,port))\n",
    "        msg = input(\"enter massage form server\")\n",
    "        s.sendall(msg.enclose())\n",
    "        data = s.recv(1024)\n",
    "        print(data.decode(\"uft8\"))\n",
    "    except OSError as e:\n",
    "        print(e)"
   ]
  },
  {
   "cell_type": "code",
   "execution_count": null,
   "id": "a5b917bf",
   "metadata": {},
   "outputs": [],
   "source": []
  }
 ],
 "metadata": {
  "kernelspec": {
   "display_name": "Python 3 (ipykernel)",
   "language": "python",
   "name": "python3"
  },
  "language_info": {
   "codemirror_mode": {
    "name": "ipython",
    "version": 3
   },
   "file_extension": ".py",
   "mimetype": "text/x-python",
   "name": "python",
   "nbconvert_exporter": "python",
   "pygments_lexer": "ipython3",
   "version": "3.8.5"
  }
 },
 "nbformat": 4,
 "nbformat_minor": 5
}
